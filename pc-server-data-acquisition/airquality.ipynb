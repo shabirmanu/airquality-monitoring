{
 "cells": [
  {
   "cell_type": "code",
   "execution_count": 7,
   "metadata": {},
   "outputs": [],
   "source": [
    "import numpy as np\n",
    "import pandas as pd\n",
    "import sys\n",
    "import json"
   ]
  },
  {
   "cell_type": "code",
   "execution_count": null,
   "metadata": {},
   "outputs": [],
   "source": [
    "!{sys.executable} -m pip install requests"
   ]
  },
  {
   "cell_type": "code",
   "execution_count": 8,
   "metadata": {},
   "outputs": [],
   "source": [
    "import requests"
   ]
  },
  {
   "cell_type": "code",
   "execution_count": null,
   "metadata": {},
   "outputs": [],
   "source": [
    "bme_url = \"http://192.168.1.37:5000/read-sensor?task=getTemperature\"\n",
    "dust_url = \"http://192.168.1.37:5000/dust-sensor\"\n",
    "\n",
    "\n",
    "JSONContent = requests.get(bme_url).json()\n",
    "bme_content = json.dumps(JSONContent, indent = 4, sort_keys=True)\n",
    "print(bme_content)"
   ]
  },
  {
   "cell_type": "code",
   "execution_count": null,
   "metadata": {},
   "outputs": [],
   "source": [
    "co2_url = \"http://192.168.1.83/getCo2\"\n",
    "JSONContent = requests.get(co2_url).json()\n",
    "co2_content = json.dumps(JSONContent, indent = 4, sort_keys=True)\n",
    "print(JSONContent[0]['sensor_val'])"
   ]
  },
  {
   "cell_type": "code",
   "execution_count": null,
   "metadata": {},
   "outputs": [],
   "source": [
    "dust_url = \"http://192.168.1.37:5000/read-dust\"\n",
    "\n",
    "\n",
    "JSONContent = requests.get(dust_url).json()\n",
    "dust_content = json.dumps(JSONContent, indent = 4, sort_keys=True)\n",
    "print(dust_content)"
   ]
  },
  {
   "cell_type": "code",
   "execution_count": 9,
   "metadata": {},
   "outputs": [],
   "source": [
    "def getDataFrame(frame_id, series_id):\n",
    "    \n",
    "    bme_url = \"http://192.168.1.37:5000/read-sensor?task=getTemperature\"\n",
    "    co2_url = \"http://192.168.1.83/getCo2\"\n",
    "    dust_url = \"http://192.168.1.37:5000/read-dust\"\n",
    "    \n",
    "    BMEContent = requests.get(bme_url).json()\n",
    "    \n",
    "    \n",
    "    CO2Content = requests.get(co2_url).json()\n",
    "    \n",
    "    \n",
    "    DustContent = requests.get(dust_url).json()\n",
    "   \n",
    "    data = [series_id, BMEContent[0]['timestamp'], BMEContent[0]['temperature'], BMEContent[0]['humidity'], \n",
    "                          BMEContent[0]['pressure'], CO2Content[0]['sensor_val'], DustContent[0]['PM25'], DustContent[0]['PM10']]\n",
    "    print(data)\n",
    "    frame_id.loc[series_id] = data\n",
    "    #s1 = pd.Series(data, index=frame_id.columns)\n",
    "    #frame_id.loc(s1)\n",
    "    \n",
    "    return frame_id\n",
    "    \n",
    "    \n",
    "    "
   ]
  },
  {
   "cell_type": "code",
   "execution_count": null,
   "metadata": {},
   "outputs": [
    {
     "name": "stdout",
     "output_type": "stream",
     "text": [
      "[2600, 'Wed, 22 May 2019 14:16:28 GMT', 25.83346933713765, 23.175660470893558, 971.8856421545719, 521, 7.9, 12.5]\n",
      "[2601, 'Wed, 22 May 2019 15:16:29 GMT', 26.073412010166795, 24.32128986592057, 972.0583862921538, 571, 8.5, 14.1]\n",
      "[2602, 'Wed, 22 May 2019 16:16:29 GMT', 25.98662416060106, 21.79808811106557, 972.1491562503803, 572, 10.6, 17.2]\n",
      "[2603, 'Wed, 22 May 2019 17:16:30 GMT', 26.36951236522291, 23.081804159031467, 972.5417018359009, 561, 13.3, 18.8]\n",
      "[2604, 'Wed, 22 May 2019 18:16:30 GMT', 25.721155966405057, 21.674037594537552, 972.6373868615781, 520, 16.6, 23.4]\n",
      "[2605, 'Wed, 22 May 2019 19:16:31 GMT', 25.031963366642593, 21.909661738823402, 972.4724224507524, 535, 12.0, 15.0]\n",
      "[2606, 'Wed, 22 May 2019 20:16:31 GMT', 24.735867434204557, 21.3029102441371, 972.687814429989, 528, 8.8, 13.1]\n",
      "[2607, 'Wed, 22 May 2019 21:16:32 GMT', 24.883915278041968, 20.24517410237444, 973.0837558118527, 521, 7.9, 10.6]\n",
      "[2608, 'Wed, 22 May 2019 22:16:33 GMT', 25.65989418719546, 17.937808816229428, 973.5234883091737, 499, 5.9, 12.0]\n",
      "[2609, 'Wed, 22 May 2019 23:16:33 GMT', 26.1448844200233, 17.57126895309228, 973.7941481511126, 523, 5.5, 8.7]\n",
      "[2610, 'Thu, 23 May 2019 00:16:34 GMT', 26.384827927459263, 19.90566897905456, 973.6308926261839, 534, 9.0, 13.4]\n",
      "[2611, 'Thu, 23 May 2019 01:16:35 GMT', 26.599246073799442, 21.62955004487679, 973.7926924027109, 498, 15.6, 22.5]\n",
      "[2612, 'Thu, 23 May 2019 02:16:35 GMT', 26.84940122673288, 23.338171806190577, 973.9533017571064, 481, 19.0, 27.7]\n",
      "[2613, 'Thu, 23 May 2019 03:16:36 GMT', 27.165925074764527, 23.9076794111032, 973.9913118762455, 507, 20.1, 28.9]\n",
      "[2614, 'Thu, 23 May 2019 04:16:36 GMT', 27.400766072049738, 24.76828050545973, 973.5381406578848, 521, 16.9, 21.5]\n",
      "[2615, 'Thu, 23 May 2019 05:16:37 GMT', 28.554559047543442, 22.651589363875544, 973.3712732047258, 578, 18.0, 23.1]\n",
      "[2616, 'Thu, 23 May 2019 06:16:38 GMT', 28.661770654056454, 22.821539135122393, 973.1137436395572, 569, 20.6, 24.3]\n",
      "[2617, 'Thu, 23 May 2019 07:16:38 GMT', 28.39118922727648, 24.95027628719772, 972.9516124772091, 538, 17.6, 24.4]\n",
      "[2618, 'Thu, 23 May 2019 08:16:39 GMT', 29.044670296483673, 26.105173229429994, 972.8003983080886, 543, 18.4, 25.8]\n",
      "[2619, 'Thu, 23 May 2019 09:16:40 GMT', 29.218252007011323, 26.178182282877966, 972.7286407341599, 560, 15.7, 20.6]\n",
      "[2620, 'Thu, 23 May 2019 10:16:40 GMT', 28.06445048081223, 25.77846059042881, 973.0967549546924, 565, 13.2, 18.1]\n",
      "[2621, 'Thu, 23 May 2019 11:16:41 GMT', 27.068925712123747, 24.501996501686957, 973.3928626467169, 542, 10.2, 17.7]\n",
      "[2622, 'Thu, 23 May 2019 12:16:41 GMT', 27.20166170853772, 24.640862560577073, 974.1586277067003, 546, 7.4, 13.8]\n",
      "[2623, 'Thu, 23 May 2019 13:16:42 GMT', 26.961716012493707, 24.514420103184573, 974.4630317781706, 523, 7.5, 13.1]\n",
      "[2624, 'Thu, 23 May 2019 14:16:43 GMT', 26.711560545820976, 26.47091592440421, 974.526771558588, 520, 8.7, 16.4]\n",
      "[2625, 'Thu, 23 May 2019 15:16:43 GMT', 27.273135018866743, 27.0481761958112, 974.1001313514716, 570, 8.7, 13.7]\n"
     ]
    }
   ],
   "source": [
    "import time\n",
    "i = 2600;\n",
    "df = pd.DataFrame(columns=[\"id\", \"date\", \"temperature\", \"humidity\", \"pressure\", \"CO2\", \"PM2.5\", \"PM10\" ])\n",
    "\n",
    "while True:\n",
    "    \n",
    "    df = getDataFrame(df, i)\n",
    "    i=i+1\n",
    "    if(i%100 == 0):\n",
    "        df.to_csv(\"dataset.csv\",encoding='utf-8', \\\n",
    "    doublequote=False, index=False, mode=\"a\", header=False)\n",
    "        df = df[0:0]\n",
    "    time.sleep(3600)\n",
    "\n",
    "        \n",
    "    "
   ]
  },
  {
   "cell_type": "code",
   "execution_count": 103,
   "metadata": {},
   "outputs": [
    {
     "name": "stdout",
     "output_type": "stream",
     "text": [
      "G:\\Lab Stuff\\Projects\\IoTOrchestration\\Implementation\\source\n"
     ]
    }
   ],
   "source": [
    "import os\n",
    "print(os.getcwd())"
   ]
  },
  {
   "cell_type": "code",
   "execution_count": null,
   "metadata": {},
   "outputs": [],
   "source": []
  }
 ],
 "metadata": {
  "kernelspec": {
   "display_name": "Python 3",
   "language": "python",
   "name": "python3"
  },
  "language_info": {
   "codemirror_mode": {
    "name": "ipython",
    "version": 3
   },
   "file_extension": ".py",
   "mimetype": "text/x-python",
   "name": "python",
   "nbconvert_exporter": "python",
   "pygments_lexer": "ipython3",
   "version": "3.7.2"
  }
 },
 "nbformat": 4,
 "nbformat_minor": 2
}
